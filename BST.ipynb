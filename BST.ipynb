{
 "cells": [
  {
   "cell_type": "code",
   "execution_count": 1,
   "id": "d6b218eb",
   "metadata": {},
   "outputs": [],
   "source": [
    "# definining node for BST\n",
    "\n",
    "class Node:\n",
    "    pass"
   ]
  },
  {
   "cell_type": "code",
   "execution_count": 2,
   "id": "15148556",
   "metadata": {},
   "outputs": [],
   "source": [
    "# node has key, value, left node and right node\n",
    "class Node:\n",
    "    def __init__(self,key, left=None, right=None):\n",
    "        self.key = key\n",
    "        self.left = left\n",
    "        self.right = right\n",
    "        \n",
    "    def __repr__(self):\n",
    "        return \"(Node = {})\".format(self.key)"
   ]
  },
  {
   "cell_type": "code",
   "execution_count": 3,
   "id": "0dfaed3b",
   "metadata": {},
   "outputs": [],
   "source": [
    "n1 = Node(3)\n",
    "n2 = Node(6)\n",
    "n3 = Node(9)"
   ]
  },
  {
   "cell_type": "code",
   "execution_count": 4,
   "id": "ef6a6850",
   "metadata": {},
   "outputs": [
    {
     "name": "stdout",
     "output_type": "stream",
     "text": [
      "None\n"
     ]
    }
   ],
   "source": [
    "print(n1.left)"
   ]
  },
  {
   "cell_type": "code",
   "execution_count": 5,
   "id": "7cd9b581",
   "metadata": {},
   "outputs": [
    {
     "name": "stdout",
     "output_type": "stream",
     "text": [
      "None\n"
     ]
    }
   ],
   "source": [
    "print(n3.right)"
   ]
  },
  {
   "cell_type": "code",
   "execution_count": 6,
   "id": "461b6017",
   "metadata": {},
   "outputs": [],
   "source": [
    "# 3 disconnected node\n",
    "# let's connect them\n",
    "\n",
    "n1.left = n2\n",
    "n1.right = n3"
   ]
  },
  {
   "cell_type": "code",
   "execution_count": 7,
   "id": "e483e51a",
   "metadata": {},
   "outputs": [
    {
     "name": "stdout",
     "output_type": "stream",
     "text": [
      "(Node = 6) 3 (Node = 9)\n",
      "None 6 None\n",
      "None 9 None\n"
     ]
    }
   ],
   "source": [
    "nodes_list = [n1,n2,n3]\n",
    "\n",
    "for node in nodes_list:\n",
    "    print(node.left, node.key, node.right)"
   ]
  },
  {
   "cell_type": "markdown",
   "id": "f2176c42",
   "metadata": {},
   "source": [
    "### Better way to parse Trees"
   ]
  },
  {
   "cell_type": "markdown",
   "id": "f6323eb5",
   "metadata": {},
   "source": [
    "\n",
    "<img src=\"bst_example.gif\" width=\"500\" height=\"300\" />\n"
   ]
  },
  {
   "cell_type": "code",
   "execution_count": 8,
   "id": "2645f4f3",
   "metadata": {},
   "outputs": [],
   "source": [
    "# by using tuple\n",
    "tree_tuple= (((2,3,4),6,(None,7,(9,13,None))),15,(17,18,20))"
   ]
  },
  {
   "cell_type": "code",
   "execution_count": 9,
   "id": "74ea0c69",
   "metadata": {},
   "outputs": [],
   "source": [
    "# write function to parse above tuple recursively\n",
    "\n",
    "def Parse_tuple(tup):\n",
    "    if isinstance(tup,tuple) and len(tup)==3:\n",
    "        treeNode = Node(tup[1])\n",
    "        treeNode.left = Parse_tuple(tup[0])\n",
    "        treeNode.right = Parse_tuple(tup[2])\n",
    "    elif tup==None:\n",
    "        treeNode = None\n",
    "    else:\n",
    "        treeNode = Node(tup)\n",
    "    return treeNode\n",
    "        "
   ]
  },
  {
   "cell_type": "code",
   "execution_count": 10,
   "id": "219e9cec",
   "metadata": {},
   "outputs": [],
   "source": [
    "tree = Parse_tuple(tree_tuple)"
   ]
  },
  {
   "cell_type": "code",
   "execution_count": 11,
   "id": "2c3299c9",
   "metadata": {},
   "outputs": [
    {
     "data": {
      "text/plain": [
       "(Node = 15)"
      ]
     },
     "execution_count": 11,
     "metadata": {},
     "output_type": "execute_result"
    }
   ],
   "source": [
    "tree"
   ]
  },
  {
   "cell_type": "markdown",
   "id": "e8e8b444",
   "metadata": {},
   "source": [
    "1. A tree defination is same as defination of root node."
   ]
  },
  {
   "cell_type": "code",
   "execution_count": 12,
   "id": "18a95c78",
   "metadata": {},
   "outputs": [],
   "source": [
    "# now we want to vizualize the tree\n",
    "def display_keys(node, space='\\t', level=0):\n",
    "    # print(node.key if node else None, level)\n",
    "    \n",
    "    # If the node is empty\n",
    "    if node is None:\n",
    "        print(space*level + '∅')\n",
    "        return   \n",
    "    \n",
    "    # If the node is a leaf \n",
    "    if node.left is None and node.right is None:\n",
    "        print(space*level + str(node.key))\n",
    "        return\n",
    "    \n",
    "    # If the node has children\n",
    "    display_keys(node.right, space, level+1)\n",
    "    print(space*level + str(node.key))\n",
    "    display_keys(node.left,space, level+1)  "
   ]
  },
  {
   "cell_type": "code",
   "execution_count": 13,
   "id": "8618c193",
   "metadata": {},
   "outputs": [
    {
     "name": "stdout",
     "output_type": "stream",
     "text": [
      "\t\t20\n",
      "\t18\n",
      "\t\t17\n",
      "15\n",
      "\t\t\t\t∅\n",
      "\t\t\t13\n",
      "\t\t\t\t9\n",
      "\t\t7\n",
      "\t\t\t∅\n",
      "\t6\n",
      "\t\t\t4\n",
      "\t\t3\n",
      "\t\t\t2\n"
     ]
    }
   ],
   "source": [
    "display_keys(Parse_tuple(tree_tuple))"
   ]
  },
  {
   "cell_type": "code",
   "execution_count": 14,
   "id": "1bc69222",
   "metadata": {},
   "outputs": [
    {
     "name": "stdout",
     "output_type": "stream",
     "text": [
      "∅\n"
     ]
    }
   ],
   "source": [
    "display_keys(Parse_tuple((None)))"
   ]
  },
  {
   "cell_type": "code",
   "execution_count": 15,
   "id": "64456c36",
   "metadata": {},
   "outputs": [
    {
     "name": "stdout",
     "output_type": "stream",
     "text": [
      "\t3\n",
      "2\n",
      "\t1\n"
     ]
    }
   ],
   "source": [
    "display_keys(Parse_tuple((1,2,3)))"
   ]
  },
  {
   "cell_type": "code",
   "execution_count": 16,
   "id": "262fda15",
   "metadata": {},
   "outputs": [
    {
     "name": "stdout",
     "output_type": "stream",
     "text": [
      "\t\t6\n",
      "\t5\n",
      "\t\t4\n",
      "2\n",
      "\t1\n"
     ]
    }
   ],
   "source": [
    "display_keys(Parse_tuple((1,2,(4,5,6))))"
   ]
  },
  {
   "cell_type": "code",
   "execution_count": null,
   "id": "6724568b",
   "metadata": {},
   "outputs": [],
   "source": []
  },
  {
   "cell_type": "markdown",
   "id": "49164d0b",
   "metadata": {},
   "source": [
    "### Traversing a binary tree\n",
    "\n",
    "1. In-order: L -Root -Right\n",
    "2. Pre-order: Root -L -R\n",
    "3. Post-order: L -R -Root"
   ]
  },
  {
   "cell_type": "code",
   "execution_count": 17,
   "id": "471e5b54",
   "metadata": {},
   "outputs": [],
   "source": [
    "# write function for in-order tree traversal\n",
    "def traversal_inorder(tree):\n",
    "    if tree==None:\n",
    "        return []\n",
    "    return traversal_inorder(tree.left) + [tree.key] + traversal_inorder(tree.right)"
   ]
  },
  {
   "cell_type": "code",
   "execution_count": 18,
   "id": "49b7c43f",
   "metadata": {},
   "outputs": [
    {
     "data": {
      "text/plain": [
       "[1, 2, 3]"
      ]
     },
     "execution_count": 18,
     "metadata": {},
     "output_type": "execute_result"
    }
   ],
   "source": [
    "traversal_inorder(Parse_tuple((1,2,3)))"
   ]
  },
  {
   "cell_type": "code",
   "execution_count": 19,
   "id": "c041bb24",
   "metadata": {},
   "outputs": [
    {
     "name": "stdout",
     "output_type": "stream",
     "text": [
      "\t\t20\n",
      "\t18\n",
      "\t\t17\n",
      "15\n",
      "\t\t\t\t∅\n",
      "\t\t\t13\n",
      "\t\t\t\t9\n",
      "\t\t7\n",
      "\t\t\t∅\n",
      "\t6\n",
      "\t\t\t4\n",
      "\t\t3\n",
      "\t\t\t2\n"
     ]
    }
   ],
   "source": [
    "display_keys(tree)"
   ]
  },
  {
   "cell_type": "code",
   "execution_count": 20,
   "id": "fb9d21b9",
   "metadata": {},
   "outputs": [
    {
     "data": {
      "text/plain": [
       "[2, 3, 4, 6, 7, 9, 13, 15, 17, 18, 20]"
      ]
     },
     "execution_count": 20,
     "metadata": {},
     "output_type": "execute_result"
    }
   ],
   "source": [
    "traversal_inorder(tree)"
   ]
  },
  {
   "cell_type": "code",
   "execution_count": 21,
   "id": "44716b2d",
   "metadata": {},
   "outputs": [],
   "source": [
    "# write function for pre-order traversal\n",
    "def traversal_preorder(tree):\n",
    "    if tree == None:\n",
    "        return []\n",
    "    return [tree.key] + traversal_preorder(tree.left) + traversal_preorder(tree.right)"
   ]
  },
  {
   "cell_type": "code",
   "execution_count": 22,
   "id": "60526357",
   "metadata": {},
   "outputs": [
    {
     "data": {
      "text/plain": [
       "[15, 6, 3, 2, 4, 7, 13, 9, 18, 17, 20]"
      ]
     },
     "execution_count": 22,
     "metadata": {},
     "output_type": "execute_result"
    }
   ],
   "source": [
    "traversal_preorder(tree)"
   ]
  },
  {
   "cell_type": "code",
   "execution_count": 23,
   "id": "6ec0ccd7",
   "metadata": {},
   "outputs": [],
   "source": [
    "# write function for pre-order traversal\n",
    "def traversal_postorder(tree):\n",
    "    if tree == None:\n",
    "        return []\n",
    "    return traversal_postorder(tree.left) + traversal_postorder(tree.right)+ [tree.key]"
   ]
  },
  {
   "cell_type": "code",
   "execution_count": 24,
   "id": "66a7deb4",
   "metadata": {},
   "outputs": [
    {
     "data": {
      "text/plain": [
       "[2, 4, 3, 9, 13, 7, 6, 17, 20, 18, 15]"
      ]
     },
     "execution_count": 24,
     "metadata": {},
     "output_type": "execute_result"
    }
   ],
   "source": [
    "traversal_postorder(tree)"
   ]
  },
  {
   "cell_type": "code",
   "execution_count": 25,
   "id": "3a388c53",
   "metadata": {},
   "outputs": [],
   "source": [
    "# to prevent writing while loop, we will use recursion"
   ]
  },
  {
   "cell_type": "code",
   "execution_count": 26,
   "id": "bce0a9dc",
   "metadata": {},
   "outputs": [],
   "source": [
    "# recursion basics - 2 things are important \n",
    "# 1. one base case which gets executed when the condition is false.\n",
    "# 2. recursive call to itself when condition is true\n",
    "\n",
    "# Example: Factorial by Recursion\n",
    "def fact(n):\n",
    "    if n > 0:\n",
    "        return n*fact(n-1)            # recursive call\n",
    "    else:\n",
    "        return 1                      # base case\n",
    "    \n",
    "  "
   ]
  },
  {
   "cell_type": "code",
   "execution_count": 27,
   "id": "7f56aa5c",
   "metadata": {},
   "outputs": [
    {
     "data": {
      "text/plain": [
       "24"
      ]
     },
     "execution_count": 27,
     "metadata": {},
     "output_type": "execute_result"
    }
   ],
   "source": [
    "fact(4)"
   ]
  },
  {
   "cell_type": "code",
   "execution_count": 28,
   "id": "3d6ee67a",
   "metadata": {},
   "outputs": [],
   "source": [
    "# 8 Mar 2022\n"
   ]
  },
  {
   "cell_type": "code",
   "execution_count": 32,
   "id": "be84641d",
   "metadata": {},
   "outputs": [],
   "source": [
    "# height of tree (recursively)\n",
    "def tree_height(tree):\n",
    "    if tree == None:\n",
    "        return 0\n",
    "    else:\n",
    "        return 1 + max(tree_height(tree.left), tree_height(tree.right))\n",
    "    "
   ]
  },
  {
   "cell_type": "code",
   "execution_count": 33,
   "id": "034be37c",
   "metadata": {},
   "outputs": [
    {
     "data": {
      "text/plain": [
       "5"
      ]
     },
     "execution_count": 33,
     "metadata": {},
     "output_type": "execute_result"
    }
   ],
   "source": [
    "tree_height(tree)"
   ]
  },
  {
   "cell_type": "code",
   "execution_count": 34,
   "id": "b71fc143",
   "metadata": {},
   "outputs": [],
   "source": [
    "# size of tree (recursively)\n",
    "def tree_size(tree):\n",
    "    if tree == None:\n",
    "        return 0\n",
    "    else:\n",
    "        return 1 + tree_size(tree.left) + tree_size(tree.right)"
   ]
  },
  {
   "cell_type": "code",
   "execution_count": 35,
   "id": "4b678393",
   "metadata": {},
   "outputs": [
    {
     "data": {
      "text/plain": [
       "11"
      ]
     },
     "execution_count": 35,
     "metadata": {},
     "output_type": "execute_result"
    }
   ],
   "source": [
    "tree_size(tree)"
   ]
  },
  {
   "cell_type": "code",
   "execution_count": 46,
   "id": "85ddc2c2",
   "metadata": {},
   "outputs": [],
   "source": [
    "# write function to find if binary tree is bst\n",
    "#\n",
    "# a binary tree is bst when the left subtree has keys less than root key and \n",
    "# right subtree has keys greater than root\n",
    "def is_bst(tree):\n",
    "    tree.left.key < tree.key:"
   ]
  },
  {
   "cell_type": "code",
   "execution_count": null,
   "id": "e5c54280",
   "metadata": {},
   "outputs": [],
   "source": [
    "# goto root node, if none return False      -> no node\n",
    "# else check if tree.left is none if yes check tree.right is none if yes return False   -> single node\n",
    "# if tree.left not none check if tree.left.key<tree.key if yes flag1 = True\n",
    "# if tree.right not none check if tree.right.key>tree.key if yes flag2 = True\n",
    "# return [ flag1 and flag2 ] and is_bst(tree.left) and is_bst(tree.right)\n"
   ]
  },
  {
   "cell_type": "code",
   "execution_count": 44,
   "id": "3412cb9b",
   "metadata": {},
   "outputs": [
    {
     "data": {
      "text/plain": [
       "True"
      ]
     },
     "execution_count": 44,
     "metadata": {},
     "output_type": "execute_result"
    }
   ],
   "source": [
    "is_bst(tree)"
   ]
  },
  {
   "cell_type": "code",
   "execution_count": 45,
   "id": "9bcab6a0",
   "metadata": {},
   "outputs": [
    {
     "data": {
      "text/plain": [
       "True"
      ]
     },
     "execution_count": 45,
     "metadata": {},
     "output_type": "execute_result"
    }
   ],
   "source": [
    "tree2 = Parse_tuple((3,2,1))\n",
    "is_bst(tree2) # failed test case should have passed"
   ]
  },
  {
   "cell_type": "code",
   "execution_count": 36,
   "id": "abb77df6",
   "metadata": {},
   "outputs": [],
   "source": [
    "# minimum key in bst\n",
    "# first key in in-order traversal should give min. key\n",
    "def min_key(tree):\n",
    "    return traversal_inorder(tree)[0]"
   ]
  },
  {
   "cell_type": "code",
   "execution_count": 37,
   "id": "604781aa",
   "metadata": {},
   "outputs": [
    {
     "data": {
      "text/plain": [
       "2"
      ]
     },
     "execution_count": 37,
     "metadata": {},
     "output_type": "execute_result"
    }
   ],
   "source": [
    "min_key(tree)"
   ]
  },
  {
   "cell_type": "code",
   "execution_count": 38,
   "id": "b015724a",
   "metadata": {},
   "outputs": [],
   "source": [
    "# we don't need traversal of other nodes - shorten\n",
    "def min_key(tree):\n",
    "    # we know min key will be leftmost leaf node\n",
    "    # go left until node.left != None\n",
    "    while True:\n",
    "        if tree.left == None:\n",
    "            return tree.key\n",
    "        else:\n",
    "            tree = tree.left\n",
    "    "
   ]
  },
  {
   "cell_type": "code",
   "execution_count": 40,
   "id": "f87d7eb6",
   "metadata": {},
   "outputs": [
    {
     "data": {
      "text/plain": [
       "2"
      ]
     },
     "execution_count": 40,
     "metadata": {},
     "output_type": "execute_result"
    }
   ],
   "source": [
    "min_key(tree)"
   ]
  },
  {
   "cell_type": "code",
   "execution_count": 41,
   "id": "89725722",
   "metadata": {},
   "outputs": [],
   "source": [
    "# try recursive approach\n",
    "def min_key(tree):\n",
    "    if tree.left == None:\n",
    "        return tree.key\n",
    "    else:\n",
    "        return min_key(tree.left)\n",
    "    "
   ]
  },
  {
   "cell_type": "code",
   "execution_count": 42,
   "id": "8d76f249",
   "metadata": {},
   "outputs": [
    {
     "data": {
      "text/plain": [
       "2"
      ]
     },
     "execution_count": 42,
     "metadata": {},
     "output_type": "execute_result"
    }
   ],
   "source": [
    "min_key(tree)"
   ]
  },
  {
   "cell_type": "markdown",
   "id": "dd268432",
   "metadata": {},
   "source": [
    "### Storing key-value in BST"
   ]
  },
  {
   "cell_type": "code",
   "execution_count": 47,
   "id": "b2803558",
   "metadata": {},
   "outputs": [],
   "source": [
    "## storing key-value in BST\n",
    "# the value of node will be the object \n",
    "class BSTNode():\n",
    "    def __init__(self, key, value=None):\n",
    "        self.key = key\n",
    "        self.value = value\n",
    "        self.left = None\n",
    "        self.right = None\n",
    "        self.parent = None"
   ]
  },
  {
   "cell_type": "code",
   "execution_count": null,
   "id": "6ac63106",
   "metadata": {},
   "outputs": [],
   "source": [
    "# Ex: ((1,4,(2,5,7)) --> insert 3 in this"
   ]
  },
  {
   "cell_type": "code",
   "execution_count": null,
   "id": "8fb17eb2",
   "metadata": {},
   "outputs": [],
   "source": [
    "# 3<4 so we go to left subtree\n",
    "# 3>1 so we append to right of node 1, before making 1.right = 3 \n",
    "# we should give condition to check if 1.right == None\n",
    "# final answer - ((None,1,3),4,(2,5,7))"
   ]
  },
  {
   "cell_type": "code",
   "execution_count": 66,
   "id": "a1b2f30d",
   "metadata": {},
   "outputs": [],
   "source": [
    "class Node:\n",
    "    def __init__(self,key):\n",
    "        self.key = key\n",
    "        self.left = None\n",
    "        self.right = None\n",
    "        self.parent = None\n",
    "        \n",
    "    def __repr__(self):\n",
    "        return '(Node = {})'.format(self.key)"
   ]
  },
  {
   "cell_type": "code",
   "execution_count": 70,
   "id": "c32ae678",
   "metadata": {},
   "outputs": [],
   "source": [
    "# assumption: the number key is new unique number not in tree\n",
    "def insert_into_tree(tree,num):\n",
    "    if tree==None:\n",
    "        tree = Node(num)\n",
    "        print(tree)\n",
    "    elif tree.key>num:\n",
    "        print(tree, tree.left)\n",
    "        tree.left = insert_into_tree(tree.left,num)\n",
    "        tree.left.parent = tree\n",
    "    else:\n",
    "        print(tree, tree.right)\n",
    "        tree.right = insert_into_tree(tree.right,num)\n",
    "        tree.right.parent = tree\n",
    "        \n",
    "    return tree\n",
    "    "
   ]
  },
  {
   "cell_type": "code",
   "execution_count": 71,
   "id": "23b3dc1b",
   "metadata": {},
   "outputs": [
    {
     "name": "stdout",
     "output_type": "stream",
     "text": [
      "(Node = 4) (Node = 1)\n",
      "(Node = 1) None\n",
      "(Node = 3)\n"
     ]
    },
    {
     "data": {
      "text/plain": [
       "(Node = 4)"
      ]
     },
     "execution_count": 71,
     "metadata": {},
     "output_type": "execute_result"
    }
   ],
   "source": [
    "tree3 = Parse_tuple((1,4,(2,5,7)))\n",
    "insert_into_tree(tree3, 3)"
   ]
  },
  {
   "cell_type": "code",
   "execution_count": 69,
   "id": "7bfbe28a",
   "metadata": {},
   "outputs": [
    {
     "name": "stdout",
     "output_type": "stream",
     "text": [
      "\t\t7\n",
      "\t5\n",
      "\t\t2\n",
      "4\n",
      "\t\t3\n",
      "\t1\n",
      "\t\t∅\n"
     ]
    }
   ],
   "source": [
    "display_keys(tree3)"
   ]
  },
  {
   "cell_type": "code",
   "execution_count": 74,
   "id": "fb398e62",
   "metadata": {},
   "outputs": [],
   "source": [
    "# find in tree\n",
    "# find number 3 in tree 3\n",
    "def find(tree,num):\n",
    "    if tree == 0:\n",
    "        return None\n",
    "    if tree.key ==num:\n",
    "#         print(tree)\n",
    "        return tree\n",
    "    if tree.key < num:\n",
    "#         print(tree, tree.right)\n",
    "        return find(tree.right, num)\n",
    "    if tree.key > num:\n",
    "#         print(tree, tree.left)\n",
    "        return find(tree.left, num)"
   ]
  },
  {
   "cell_type": "code",
   "execution_count": 75,
   "id": "7bb6ed4c",
   "metadata": {},
   "outputs": [
    {
     "data": {
      "text/plain": [
       "(Node = 3)"
      ]
     },
     "execution_count": 75,
     "metadata": {},
     "output_type": "execute_result"
    }
   ],
   "source": [
    "find(tree3, 3)"
   ]
  },
  {
   "cell_type": "code",
   "execution_count": 76,
   "id": "64dd52a5",
   "metadata": {},
   "outputs": [
    {
     "data": {
      "text/plain": [
       "(Node = 2)"
      ]
     },
     "execution_count": 76,
     "metadata": {},
     "output_type": "execute_result"
    }
   ],
   "source": [
    "find(tree2, 2)"
   ]
  },
  {
   "cell_type": "code",
   "execution_count": null,
   "id": "b8f419cd",
   "metadata": {},
   "outputs": [],
   "source": [
    "# update "
   ]
  },
  {
   "cell_type": "code",
   "execution_count": 77,
   "id": "01edc722",
   "metadata": {},
   "outputs": [],
   "source": [
    "# list all keys in bst"
   ]
  },
  {
   "cell_type": "code",
   "execution_count": 80,
   "id": "207e02e9",
   "metadata": {},
   "outputs": [],
   "source": [
    "# checking if binary tree is balanced\n",
    "#\n",
    "# when is binary tree balanced?\n",
    "# when left subtree is balanced, when right subtree is balanced, \n",
    "# when height diff of left and right subtree is less than equal to 1\n",
    "\n",
    "def is_balanced(tree):\n",
    "    if node is None:\n",
    "        return True, 0\n",
    "    balanced_l, height_l = is_balanced(node.left)\n",
    "    balanced_r, height_r = is_balanced(node.right)\n",
    "    balanced = balanced_l and balanced_r and abs(height_l - height_r) <=1\n",
    "    height = 1 + max(height_l, height_r)\n",
    "    return balanced, height"
   ]
  },
  {
   "cell_type": "code",
   "execution_count": null,
   "id": "6e4c851c",
   "metadata": {},
   "outputs": [],
   "source": [
    "# to complete\n",
    "\n",
    "# is_bst\n",
    "# is_balanced\n",
    "# make_balanced"
   ]
  }
 ],
 "metadata": {
  "kernelspec": {
   "display_name": "Python 3 (ipykernel)",
   "language": "python",
   "name": "python3"
  },
  "language_info": {
   "codemirror_mode": {
    "name": "ipython",
    "version": 3
   },
   "file_extension": ".py",
   "mimetype": "text/x-python",
   "name": "python",
   "nbconvert_exporter": "python",
   "pygments_lexer": "ipython3",
   "version": "3.9.7"
  }
 },
 "nbformat": 4,
 "nbformat_minor": 5
}
