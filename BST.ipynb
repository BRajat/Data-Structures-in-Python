{
 "cells": [
  {
   "cell_type": "code",
   "execution_count": 1,
   "id": "23833f65",
   "metadata": {},
   "outputs": [],
   "source": [
    "# definining node for BST\n",
    "\n",
    "class Node:\n",
    "    pass"
   ]
  },
  {
   "cell_type": "code",
   "execution_count": 31,
   "id": "92ebe23f",
   "metadata": {},
   "outputs": [],
   "source": [
    "# node has key, value, left node and right node\n",
    "class Node:\n",
    "    def __init__(self,key, left=None, right=None):\n",
    "        self.key = key\n",
    "        self.left = left\n",
    "        self.right = right\n",
    "        \n",
    "    def __repr__(self):\n",
    "        return \"(Node = {})\".format(self.key)"
   ]
  },
  {
   "cell_type": "code",
   "execution_count": 32,
   "id": "ce8f89db",
   "metadata": {},
   "outputs": [],
   "source": [
    "n1 = Node(3)\n",
    "n2 = Node(6)\n",
    "n3 = Node(9)"
   ]
  },
  {
   "cell_type": "code",
   "execution_count": 33,
   "id": "e8e51f02",
   "metadata": {},
   "outputs": [
    {
     "name": "stdout",
     "output_type": "stream",
     "text": [
      "None\n"
     ]
    }
   ],
   "source": [
    "print(n1.left)"
   ]
  },
  {
   "cell_type": "code",
   "execution_count": 34,
   "id": "42a06058",
   "metadata": {},
   "outputs": [
    {
     "name": "stdout",
     "output_type": "stream",
     "text": [
      "None\n"
     ]
    }
   ],
   "source": [
    "print(n3.right)"
   ]
  },
  {
   "cell_type": "code",
   "execution_count": 35,
   "id": "ce9189cc",
   "metadata": {},
   "outputs": [],
   "source": [
    "# 3 disconnected node\n",
    "# let's connect them\n",
    "\n",
    "n1.left = n2\n",
    "n1.right = n3"
   ]
  },
  {
   "cell_type": "code",
   "execution_count": 37,
   "id": "31aa0a2c",
   "metadata": {},
   "outputs": [
    {
     "name": "stdout",
     "output_type": "stream",
     "text": [
      "(Node = 6) 3 (Node = 9)\n",
      "None 6 None\n",
      "None 9 None\n"
     ]
    }
   ],
   "source": [
    "nodes_list = [n1,n2,n3]\n",
    "\n",
    "for node in nodes_list:\n",
    "    print(node.left, node.key, node.right)"
   ]
  },
  {
   "cell_type": "markdown",
   "id": "2f31ea2f",
   "metadata": {},
   "source": [
    "### Better way to parse Trees"
   ]
  },
  {
   "attachments": {},
   "cell_type": "markdown",
   "id": "80038d4a",
   "metadata": {},
   "source": [
    "\n",
    "<img src=\"bst_example.gif\" width=\"500\" height=\"300\" />\n"
   ]
  },
  {
   "cell_type": "code",
   "execution_count": 44,
   "id": "cd41b790",
   "metadata": {},
   "outputs": [],
   "source": [
    "# by using tuple\n",
    "tree_tuple= (((2,3,4),6,(None,7,(9,13,None))),15,(17,18,20))"
   ]
  },
  {
   "cell_type": "code",
   "execution_count": 40,
   "id": "411e412c",
   "metadata": {},
   "outputs": [],
   "source": [
    "# write function to parse above tuple recursively\n",
    "\n",
    "def Parse_tuple(tup):\n",
    "    if isinstance(tup,tuple) and len(tup)==3:\n",
    "        treeNode = Node(tup[1])\n",
    "        treeNode.left = Parse_tuple(tup[0])\n",
    "        treeNode.right = Parse_tuple(tup[2])\n",
    "    elif tup==None:\n",
    "        treeNode = None\n",
    "    else:\n",
    "        treeNode = Node(tup)\n",
    "    return treeNode\n",
    "        "
   ]
  },
  {
   "cell_type": "code",
   "execution_count": 41,
   "id": "defdab84",
   "metadata": {},
   "outputs": [
    {
     "data": {
      "text/plain": [
       "(Node = 15)"
      ]
     },
     "execution_count": 41,
     "metadata": {},
     "output_type": "execute_result"
    }
   ],
   "source": [
    "Parse_tuple(tree_tuple)"
   ]
  },
  {
   "cell_type": "markdown",
   "id": "07471387",
   "metadata": {},
   "source": [
    "1. A tree defination is same as defination of root node."
   ]
  },
  {
   "cell_type": "code",
   "execution_count": 42,
   "id": "5eb50096",
   "metadata": {},
   "outputs": [],
   "source": [
    "# now we want to vizualize the tree\n",
    "def display_keys(node, space='\\t', level=0):\n",
    "    # print(node.key if node else None, level)\n",
    "    \n",
    "    # If the node is empty\n",
    "    if node is None:\n",
    "        print(space*level + '∅')\n",
    "        return   \n",
    "    \n",
    "    # If the node is a leaf \n",
    "    if node.left is None and node.right is None:\n",
    "        print(space*level + str(node.key))\n",
    "        return\n",
    "    \n",
    "    # If the node has children\n",
    "    display_keys(node.right, space, level+1)\n",
    "    print(space*level + str(node.key))\n",
    "    display_keys(node.left,space, level+1)  "
   ]
  },
  {
   "cell_type": "code",
   "execution_count": 43,
   "id": "0f8861c3",
   "metadata": {},
   "outputs": [
    {
     "name": "stdout",
     "output_type": "stream",
     "text": [
      "\t(1718, 20)\n",
      "15\n",
      "\t\t\t\t∅\n",
      "\t\t\t13\n",
      "\t\t\t\t9\n",
      "\t\t7\n",
      "\t\t\t∅\n",
      "\t6\n",
      "\t\t\t4\n",
      "\t\t3\n",
      "\t\t\t2\n"
     ]
    }
   ],
   "source": [
    "display_keys(Parse_tuple(tree_tuple))"
   ]
  },
  {
   "cell_type": "code",
   "execution_count": 46,
   "id": "9eb48422",
   "metadata": {},
   "outputs": [
    {
     "name": "stdout",
     "output_type": "stream",
     "text": [
      "∅\n"
     ]
    }
   ],
   "source": [
    "display_keys(Parse_tuple((None)))"
   ]
  },
  {
   "cell_type": "code",
   "execution_count": 47,
   "id": "3c3b47e8",
   "metadata": {},
   "outputs": [
    {
     "name": "stdout",
     "output_type": "stream",
     "text": [
      "\t3\n",
      "2\n",
      "\t1\n"
     ]
    }
   ],
   "source": [
    "display_keys(Parse_tuple((1,2,3)))"
   ]
  },
  {
   "cell_type": "code",
   "execution_count": 49,
   "id": "cade65c2",
   "metadata": {},
   "outputs": [
    {
     "name": "stdout",
     "output_type": "stream",
     "text": [
      "\t\t6\n",
      "\t5\n",
      "\t\t4\n",
      "2\n",
      "\t1\n"
     ]
    }
   ],
   "source": [
    "display_keys(Parse_tuple((1,2,(4,5,6))))"
   ]
  },
  {
   "cell_type": "code",
   "execution_count": null,
   "id": "36bea2d1",
   "metadata": {},
   "outputs": [],
   "source": []
  }
 ],
 "metadata": {
  "kernelspec": {
   "display_name": "Python 3 (ipykernel)",
   "language": "python",
   "name": "python3"
  },
  "language_info": {
   "codemirror_mode": {
    "name": "ipython",
    "version": 3
   },
   "file_extension": ".py",
   "mimetype": "text/x-python",
   "name": "python",
   "nbconvert_exporter": "python",
   "pygments_lexer": "ipython3",
   "version": "3.9.7"
  }
 },
 "nbformat": 4,
 "nbformat_minor": 5
}
