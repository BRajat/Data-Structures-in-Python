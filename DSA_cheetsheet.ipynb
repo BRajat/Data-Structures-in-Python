{
 "cells": [
  {
   "cell_type": "markdown",
   "id": "9dd16fb2",
   "metadata": {},
   "source": [
    "## CheatSheet \n",
    "\n",
    "<b>\n",
    "\n",
    "1. Algorithm-\n",
    "    \n",
    "    a. Linear Search\n",
    "    \n",
    "    b. Binary Search (Precondition - list has to be sorted)\n",
    "    \n",
    "\n",
    "2. Time Complexity\n",
    "    \n",
    "    a. O(N)\n",
    "    \n",
    "    b. O(log(N)) - in each iteration, we reduce the search space by half \n",
    "    \n",
    "\n",
    "3. Space Complexity\n",
    "    \n",
    "    a. O(1)\n",
    "    \n",
    "    b. O(1)\n",
    "    \n",
    "</b>"
   ]
  },
  {
   "cell_type": "markdown",
   "id": "481795cd",
   "metadata": {},
   "source": [
    "<b>\n",
    "\n",
    "1. Algorithm-\n",
    "    \n",
    "    a. Binary Search Tree: Insert\n",
    "    \n",
    "    b. Binary Search Tree: Find, Update\n",
    "    \n",
    "    c. Binary search Tree: List_All\n",
    "    \n",
    "\n",
    "2. Time Complexity\n",
    "    \n",
    "    a. O(log(N))\n",
    "    \n",
    "    b. O(log(N)) - in each iteration, half nodes are not needed (Note: Tree is Balanced)\n",
    "    \n",
    "    c. O(1)\n",
    "    \n",
    "\n",
    "3. Space Complexity\n",
    "    \n",
    "    a. O(1)\n",
    "    \n",
    "    b. O(1)\n",
    "    \n",
    "</b>"
   ]
  },
  {
   "cell_type": "code",
   "execution_count": null,
   "id": "cc197e20",
   "metadata": {},
   "outputs": [],
   "source": []
  },
  {
   "cell_type": "code",
   "execution_count": null,
   "id": "5ef18319",
   "metadata": {},
   "outputs": [],
   "source": []
  },
  {
   "cell_type": "code",
   "execution_count": null,
   "id": "7b7e354d",
   "metadata": {},
   "outputs": [],
   "source": []
  },
  {
   "cell_type": "code",
   "execution_count": null,
   "id": "08129d58",
   "metadata": {},
   "outputs": [],
   "source": []
  }
 ],
 "metadata": {
  "kernelspec": {
   "display_name": "Python 3 (ipykernel)",
   "language": "python",
   "name": "python3"
  },
  "language_info": {
   "codemirror_mode": {
    "name": "ipython",
    "version": 3
   },
   "file_extension": ".py",
   "mimetype": "text/x-python",
   "name": "python",
   "nbconvert_exporter": "python",
   "pygments_lexer": "ipython3",
   "version": "3.9.7"
  }
 },
 "nbformat": 4,
 "nbformat_minor": 5
}
