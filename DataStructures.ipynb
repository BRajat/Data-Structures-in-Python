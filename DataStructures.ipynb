{
  "cells": [
    {
      "cell_type": "markdown",
      "metadata": {
        "id": "view-in-github",
        "colab_type": "text"
      },
      "source": [
        "<a href=\"https://colab.research.google.com/github/BRajat/Data-Structures-in-Python/blob/main/DataStructures.ipynb\" target=\"_parent\"><img src=\"https://colab.research.google.com/assets/colab-badge.svg\" alt=\"Open In Colab\"/></a>"
      ]
    },
    {
      "cell_type": "markdown",
      "id": "2a1b176e",
      "metadata": {
        "id": "2a1b176e"
      },
      "source": [
        "### Binary Search\n",
        "\n",
        "**Prerequisites**\n",
        "1. List has to in sorted order ascending or descending. Order is known.\n",
        "2. Time complexity is O(log(n))"
      ]
    },
    {
      "cell_type": "code",
      "execution_count": null,
      "id": "5c5ab7e5",
      "metadata": {
        "scrolled": false,
        "id": "5c5ab7e5",
        "outputId": "d67b8b6b-0700-4c2c-fb69-6b33e7410556"
      },
      "outputs": [
        {
          "name": "stdout",
          "output_type": "stream",
          "text": [
            "[59, 52, 12, 17, 63, 33, 30, 32, 49, 53]\n"
          ]
        }
      ],
      "source": [
        "import random\n",
        "\n",
        "l = [random.randint(0,100) for _ in range(10)]\n",
        "print(l)"
      ]
    },
    {
      "cell_type": "code",
      "execution_count": null,
      "id": "6e92f144",
      "metadata": {
        "id": "6e92f144",
        "outputId": "ba7fc376-2021-4b4e-88f3-a1179edd74f7"
      },
      "outputs": [
        {
          "name": "stdout",
          "output_type": "stream",
          "text": [
            "[12, 17, 30, 32, 33, 49, 52, 53, 59, 63]\n"
          ]
        }
      ],
      "source": [
        "l = sorted(l)\n",
        "print(l)"
      ]
    },
    {
      "cell_type": "markdown",
      "id": "87a52802",
      "metadata": {
        "id": "87a52802"
      },
      "source": [
        "pseudo - \n",
        "1. list is index: lo=0 to hi=len(list)-1\n",
        "2. Find mid = len(list)//2\n",
        "3. if list[mid] == query then return\n",
        "elif list[mid] < query --> lo = mid + 1\n",
        "elif list[mid] > query --> hi = mid - 1\n",
        "4. run 3. in loop until single element is left or (hi > lo)"
      ]
    },
    {
      "cell_type": "code",
      "execution_count": null,
      "id": "58e0970f",
      "metadata": {
        "id": "58e0970f"
      },
      "outputs": [],
      "source": [
        "def binarySearch(l, query):\n",
        "    \n",
        "    hi = len(l)-1\n",
        "    lo = 0\n",
        "    print('lo','hi','num')\n",
        "    print(lo, hi, l[(lo+hi)//2])\n",
        "\n",
        "    while lo <= hi:\n",
        "        mid = (lo + hi)// 2\n",
        "        \n",
        "        if l[mid] == query:\n",
        "            print(mid, l[mid])\n",
        "            return True\n",
        "            \n",
        "        \n",
        "        if l[mid] < query:\n",
        "            lo = mid + 1\n",
        "            print(lo,hi, l[mid])\n",
        "        elif l[mid] > query:\n",
        "            hi = mid - 1\n",
        "            print(lo,hi, l[mid])\n",
        "    else:\n",
        "        return False\n"
      ]
    },
    {
      "cell_type": "code",
      "execution_count": null,
      "id": "9de67285",
      "metadata": {
        "id": "9de67285",
        "outputId": "d9c8083b-fe84-4767-ee66-3718f2235061"
      },
      "outputs": [
        {
          "name": "stdout",
          "output_type": "stream",
          "text": [
            "lo hi num\n",
            "0 9 33\n",
            "5 9 33\n",
            "5 6 53\n",
            "5 4 49\n"
          ]
        },
        {
          "data": {
            "text/plain": [
              "False"
            ]
          },
          "execution_count": 45,
          "metadata": {},
          "output_type": "execute_result"
        }
      ],
      "source": [
        "binarySearch(l, query = 36)"
      ]
    }
  ],
  "metadata": {
    "kernelspec": {
      "display_name": "Python 3 (ipykernel)",
      "language": "python",
      "name": "python3"
    },
    "language_info": {
      "codemirror_mode": {
        "name": "ipython",
        "version": 3
      },
      "file_extension": ".py",
      "mimetype": "text/x-python",
      "name": "python",
      "nbconvert_exporter": "python",
      "pygments_lexer": "ipython3",
      "version": "3.9.7"
    },
    "colab": {
      "name": "DataStructures.ipynb",
      "provenance": [],
      "include_colab_link": true
    }
  },
  "nbformat": 4,
  "nbformat_minor": 5
}