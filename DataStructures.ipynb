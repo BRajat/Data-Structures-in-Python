{
 "cells": [
  {
   "cell_type": "markdown",
   "id": "2a1b176e",
   "metadata": {},
   "source": [
    "### Binary Search\n",
    "\n",
    "**Prerequisites**\n",
    "1. List has to in sorted order ascending or descending. Order is known.\n",
    "\n",
    "\n",
    "Notes - \n",
    "1. Time complexity is O(log(n)), since in each iteration we are splitting the list into half."
   ]
  },
  {
   "cell_type": "code",
   "execution_count": 5,
   "id": "5c5ab7e5",
   "metadata": {
    "scrolled": false
   },
   "outputs": [
    {
     "name": "stdout",
     "output_type": "stream",
     "text": [
      "[59, 52, 12, 17, 63, 33, 30, 32, 49, 53]\n"
     ]
    }
   ],
   "source": [
    "import random\n",
    "\n",
    "l = [random.randint(0,100) for _ in range(10)]\n",
    "print(l)"
   ]
  },
  {
   "cell_type": "code",
   "execution_count": 6,
   "id": "6e92f144",
   "metadata": {},
   "outputs": [
    {
     "name": "stdout",
     "output_type": "stream",
     "text": [
      "[12, 17, 30, 32, 33, 49, 52, 53, 59, 63]\n"
     ]
    }
   ],
   "source": [
    "l = sorted(l)\n",
    "print(l)"
   ]
  },
  {
   "cell_type": "markdown",
   "id": "87a52802",
   "metadata": {},
   "source": [
    "pseudo - \n",
    "1. list is index: lo=0 to hi=len(list)-1\n",
    "2. Find mid = len(list)//2\n",
    "3. if list[mid] == query then return\n",
    "elif list[mid] < query --> lo = mid + 1\n",
    "elif list[mid] > query --> hi = mid - 1\n",
    "4. run 3. in loop until single element is left or (hi > lo)"
   ]
  },
  {
   "cell_type": "code",
   "execution_count": 44,
   "id": "58e0970f",
   "metadata": {},
   "outputs": [],
   "source": [
    "def binarySearch(l, query):\n",
    "    \n",
    "    hi = len(l)-1\n",
    "    lo = 0\n",
    "    print('lo','hi','num')\n",
    "    print(lo, hi, l[(lo+hi)//2])\n",
    "\n",
    "    while lo <= hi:\n",
    "        mid = (lo + hi)// 2\n",
    "        \n",
    "        if l[mid] == query:\n",
    "            print(mid, l[mid])\n",
    "            return True\n",
    "            \n",
    "        \n",
    "        if l[mid] < query:\n",
    "            lo = mid + 1\n",
    "            print(lo,hi, l[mid])\n",
    "        elif l[mid] > query:\n",
    "            hi = mid - 1\n",
    "            print(lo,hi, l[mid])\n",
    "    else:\n",
    "        return False\n"
   ]
  },
  {
   "cell_type": "code",
   "execution_count": 45,
   "id": "9de67285",
   "metadata": {},
   "outputs": [
    {
     "name": "stdout",
     "output_type": "stream",
     "text": [
      "lo hi num\n",
      "0 9 33\n",
      "5 9 33\n",
      "5 6 53\n",
      "5 4 49\n"
     ]
    },
    {
     "data": {
      "text/plain": [
       "False"
      ]
     },
     "execution_count": 45,
     "metadata": {},
     "output_type": "execute_result"
    }
   ],
   "source": [
    "binarySearch(l, query = 36)"
   ]
  },
  {
   "cell_type": "markdown",
   "id": "a74b0dc6",
   "metadata": {},
   "source": [
    "### Linked List\n",
    "\n",
    "Reference -\n",
    "1. https://jovian.ai/aakashns/python-classes-and-linked-lists"
   ]
  },
  {
   "cell_type": "markdown",
   "id": "f02fa4aa",
   "metadata": {},
   "source": [
    "1. There is a node class, that is abstraction for node elements in linked list.\n",
    "2. Two important information at node are - value it stores and the pointer to the next node.\n",
    "3. Linked list starts at root node and ends at leaf node, The leaf node has no reference to next node. It is the terminal node."
   ]
  },
  {
   "cell_type": "code",
   "execution_count": 33,
   "id": "eafcadf4",
   "metadata": {},
   "outputs": [],
   "source": [
    "class Node:\n",
    "    \n",
    "    def __init__(self, value=None):\n",
    "        self.val = value\n",
    "        self.next = None\n",
    "    "
   ]
  },
  {
   "cell_type": "code",
   "execution_count": 42,
   "id": "a14b7ed2",
   "metadata": {},
   "outputs": [],
   "source": [
    "linked_list = []"
   ]
  },
  {
   "cell_type": "code",
   "execution_count": 43,
   "id": "19f3c3c4",
   "metadata": {},
   "outputs": [],
   "source": [
    "n1 = Node('Mon')\n",
    "linked_list.append(n1)"
   ]
  },
  {
   "cell_type": "code",
   "execution_count": 44,
   "id": "2c572a90",
   "metadata": {},
   "outputs": [],
   "source": [
    "n2 = Node('Tue')\n",
    "linked_list.append(n2)\n",
    "n1.next = n2"
   ]
  },
  {
   "cell_type": "code",
   "execution_count": 45,
   "id": "3c176ba4",
   "metadata": {},
   "outputs": [],
   "source": [
    "n3 = Node('Wed')\n",
    "linked_list.append(n3)\n",
    "n2.next = n3"
   ]
  },
  {
   "cell_type": "code",
   "execution_count": 46,
   "id": "43fa9736",
   "metadata": {},
   "outputs": [],
   "source": [
    "n4 = Node('Thu')\n",
    "linked_list.append(n4)\n",
    "n3.next = n4"
   ]
  },
  {
   "cell_type": "code",
   "execution_count": 47,
   "id": "85dc17e8",
   "metadata": {},
   "outputs": [
    {
     "name": "stdout",
     "output_type": "stream",
     "text": [
      "<__main__.Node object at 0x7fcda1dc5430> Mon <__main__.Node object at 0x7fcda1dc5700>\n",
      "<__main__.Node object at 0x7fcda1dc5700> Tue <__main__.Node object at 0x7fcda1dc55b0>\n",
      "<__main__.Node object at 0x7fcda1dc55b0> Wed <__main__.Node object at 0x7fcda1dc5af0>\n",
      "<__main__.Node object at 0x7fcda1dc5af0> Thu None\n"
     ]
    }
   ],
   "source": [
    "for i in linked_list:\n",
    "    print(i, i.val, i.next)"
   ]
  },
  {
   "cell_type": "code",
   "execution_count": 48,
   "id": "efbfcee4",
   "metadata": {},
   "outputs": [],
   "source": [
    "class LinkedList():\n",
    "    def __init__(self):\n",
    "        self.head = None\n",
    "        \n",
    "    def append(self, value):\n",
    "        if self.head is None:\n",
    "            self.head = Node(value)\n",
    "        else:\n",
    "            current_node = self.head\n",
    "            while current_node.next is not None:\n",
    "                current_node = current_node.next\n",
    "            current_node.next = Node(value)"
   ]
  },
  {
   "cell_type": "code",
   "execution_count": 49,
   "id": "dc5d719c",
   "metadata": {},
   "outputs": [],
   "source": [
    "list2 = LinkedList()\n",
    "list2.append(2)\n",
    "list2.append(3)\n",
    "list2.append(5)"
   ]
  },
  {
   "cell_type": "code",
   "execution_count": 50,
   "id": "05cd15d0",
   "metadata": {},
   "outputs": [
    {
     "data": {
      "text/plain": [
       "<__main__.Node at 0x7fcda1dd8dc0>"
      ]
     },
     "execution_count": 50,
     "metadata": {},
     "output_type": "execute_result"
    }
   ],
   "source": [
    "list2.head"
   ]
  },
  {
   "cell_type": "code",
   "execution_count": 52,
   "id": "0bf8fdc6",
   "metadata": {},
   "outputs": [
    {
     "data": {
      "text/plain": [
       "<__main__.Node at 0x7fcda1bf0790>"
      ]
     },
     "execution_count": 52,
     "metadata": {},
     "output_type": "execute_result"
    }
   ],
   "source": [
    "list2.head.next"
   ]
  },
  {
   "cell_type": "code",
   "execution_count": 54,
   "id": "7afadb93",
   "metadata": {},
   "outputs": [
    {
     "data": {
      "text/plain": [
       "<__main__.Node at 0x7fcda1dd8850>"
      ]
     },
     "execution_count": 54,
     "metadata": {},
     "output_type": "execute_result"
    }
   ],
   "source": [
    "list2.head.next.next"
   ]
  },
  {
   "cell_type": "code",
   "execution_count": 55,
   "id": "2e015981",
   "metadata": {},
   "outputs": [
    {
     "name": "stdout",
     "output_type": "stream",
     "text": [
      "None\n"
     ]
    }
   ],
   "source": [
    "print(list2.head.next.next.next)"
   ]
  },
  {
   "cell_type": "code",
   "execution_count": 57,
   "id": "b5500a77",
   "metadata": {},
   "outputs": [
    {
     "name": "stdout",
     "output_type": "stream",
     "text": [
      "2\n",
      "3\n",
      "5\n"
     ]
    }
   ],
   "source": [
    "current = list2.head\n",
    "while current.next is not None:\n",
    "    print(current.val)\n",
    "    current = current.next\n",
    "else:\n",
    "    print(current.val)"
   ]
  },
  {
   "cell_type": "code",
   "execution_count": null,
   "id": "9b59cd1c",
   "metadata": {},
   "outputs": [],
   "source": [
    "## add other methods to the linked_list class"
   ]
  },
  {
   "cell_type": "code",
   "execution_count": null,
   "id": "b94d2a60",
   "metadata": {},
   "outputs": [],
   "source": [
    "## continue working on binary tree and other dsa"
   ]
  }
 ],
 "metadata": {
  "kernelspec": {
   "display_name": "Python 3 (ipykernel)",
   "language": "python",
   "name": "python3"
  },
  "language_info": {
   "codemirror_mode": {
    "name": "ipython",
    "version": 3
   },
   "file_extension": ".py",
   "mimetype": "text/x-python",
   "name": "python",
   "nbconvert_exporter": "python",
   "pygments_lexer": "ipython3",
   "version": "3.9.7"
  }
 },
 "nbformat": 4,
 "nbformat_minor": 5
}
