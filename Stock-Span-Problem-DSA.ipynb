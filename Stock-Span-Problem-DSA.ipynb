{
 "cells": [
  {
   "cell_type": "markdown",
   "id": "f57dbf6c",
   "metadata": {},
   "source": [
    "### Problem Statement "
   ]
  },
  {
   "cell_type": "code",
   "execution_count": 5,
   "id": "7f4b969e",
   "metadata": {},
   "outputs": [],
   "source": [
    "prices = [7,5,2,3,1,4,6]\n",
    "# Problem: Given prices array find the span array\n",
    "# what is span array?\n",
    "# span - find the no. of consecutive days before a particular day, \n",
    "# such that the price on prior days is less than price on current day\n",
    "\n",
    "# Answer - [1,1,1,2,1,4,6]"
   ]
  },
  {
   "cell_type": "markdown",
   "id": "0f3a6314",
   "metadata": {},
   "source": [
    "### Problem explanation with general test case example"
   ]
  },
  {
   "cell_type": "code",
   "execution_count": 1,
   "id": "d82e6308",
   "metadata": {},
   "outputs": [],
   "source": [
    "# Explanation -\n",
    "# at index 0, since no price before current price span = 1\n",
    "# at index 1, 5<7 so span is 1\n",
    "# at index 2, 2<5 so span is 1\n",
    "# at index 3, 3>2 but 3<5 so span is 2\n",
    "# at index 4, 1<3 so span is 1\n",
    "# at index 5, 4>1 also 4>3 also 4>2 but 4<5 so span is 4\n",
    "# at index 6, 6>4 also 6>1 also 6>3 also 6>2 also 6>5 but 6<7 so span is 6"
   ]
  },
  {
   "cell_type": "markdown",
   "id": "8a057554",
   "metadata": {},
   "source": [
    "### Test Cases"
   ]
  },
  {
   "cell_type": "code",
   "execution_count": 38,
   "id": "420cc5d4",
   "metadata": {},
   "outputs": [],
   "source": [
    "# Possible Test Cases could be-\n",
    "# 1. The prices array is in increasing order.\n",
    "# 2. The prices array is in decreasing order.\n",
    "# 3. The prices is maximum at middle and decreasing in either direction.\n",
    "# 4. Consecutive days has same price value.\n",
    "# 5. Alternate day has same price value.\n",
    "# 6. General condition as given in the explanation example."
   ]
  },
  {
   "cell_type": "code",
   "execution_count": 42,
   "id": "788dca15",
   "metadata": {},
   "outputs": [],
   "source": [
    "tests = []\n",
    "tests.append({\n",
    "    'input':[1,2,3,4,5,6,7], 'output':[1,2,3,4,5,6,7]\n",
    "})"
   ]
  },
  {
   "cell_type": "code",
   "execution_count": 43,
   "id": "0101d2dc",
   "metadata": {},
   "outputs": [],
   "source": [
    "tests.append({\n",
    "    'input':[7,6,5,4,3,2,1], 'output':[1,1,1,1,1,1,1]\n",
    "})"
   ]
  },
  {
   "cell_type": "code",
   "execution_count": 44,
   "id": "5f3fcadf",
   "metadata": {},
   "outputs": [],
   "source": [
    "tests.append({\n",
    "    'input':[1,3,4,7,6,5,2], 'output':[1,2,3,4,1,1,1]\n",
    "})"
   ]
  },
  {
   "cell_type": "code",
   "execution_count": 45,
   "id": "0644fd51",
   "metadata": {},
   "outputs": [],
   "source": [
    "tests.append({\n",
    "    'input':[1,3,4,4,6,5,2], 'output':[1,2,3,1,5,1,1]\n",
    "})"
   ]
  },
  {
   "cell_type": "code",
   "execution_count": 46,
   "id": "59b43f70",
   "metadata": {},
   "outputs": [],
   "source": [
    "tests.append({\n",
    "    'input':[1,3,4,7,6,4,2], 'output':[1,2,3,4,1,1,1]\n",
    "})"
   ]
  },
  {
   "cell_type": "code",
   "execution_count": 47,
   "id": "0366e21b",
   "metadata": {},
   "outputs": [],
   "source": [
    "tests.append({\n",
    "    'input':[7,5,2,3,1,4,6], 'output':[1,1,1,2,1,4,6]\n",
    "})"
   ]
  },
  {
   "cell_type": "markdown",
   "id": "fb616bc0",
   "metadata": {},
   "source": [
    "### Assumptions"
   ]
  },
  {
   "cell_type": "code",
   "execution_count": 39,
   "id": "6049d376",
   "metadata": {},
   "outputs": [],
   "source": [
    "# 1. The prices array is not empty."
   ]
  },
  {
   "cell_type": "markdown",
   "id": "5e129c83",
   "metadata": {},
   "source": [
    "### Brute Force Solution"
   ]
  },
  {
   "cell_type": "code",
   "execution_count": null,
   "id": "8a2ede9c",
   "metadata": {},
   "outputs": [],
   "source": [
    "# for each day we can calculate the span value independently by it's comparision with previous days price values."
   ]
  },
  {
   "cell_type": "code",
   "execution_count": null,
   "id": "1b0e755f",
   "metadata": {},
   "outputs": [],
   "source": [
    "# brute force solution -\n",
    "# to find span on any particular(current) day, compare the price with previous day IF less increment span by 1 and compare with\n",
    "# previous of previous day repeat until you check for all index to left of current day ELSE break the repeat loop and \n",
    "# submit the span value to current day."
   ]
  },
  {
   "cell_type": "markdown",
   "id": "f2096439",
   "metadata": {},
   "source": [
    "#### Span for single day"
   ]
  },
  {
   "cell_type": "code",
   "execution_count": 22,
   "id": "620237fc",
   "metadata": {},
   "outputs": [
    {
     "name": "stdout",
     "output_type": "stream",
     "text": [
      "Enter one of 7 days[0-6]: 0\n",
      "Span for day 0 is 1\n"
     ]
    }
   ],
   "source": [
    "# implementation-\n",
    "\n",
    "# find span for which day-\n",
    "day = int(input(\"Enter one of 7 days[0-6]: \"))\n",
    "\n",
    "# initialize span variable\n",
    "span = 1\n",
    "for i in range(1,day):\n",
    "    if prices[day]>prices[day-i]:\n",
    "        span = span + 1\n",
    "    else:\n",
    "        break\n",
    "        \n",
    "print(\"Span for day {} is {}\".format(day, span))\n"
   ]
  },
  {
   "cell_type": "code",
   "execution_count": 23,
   "id": "cc2249ee",
   "metadata": {},
   "outputs": [],
   "source": [
    "def find_span(prices,day):\n",
    "    span = 1\n",
    "    for i in range(1,day):\n",
    "        if prices[day]>prices[day-i]:\n",
    "            span = span + 1\n",
    "        else:\n",
    "            break\n",
    "    return span\n"
   ]
  },
  {
   "cell_type": "markdown",
   "id": "ad71a44f",
   "metadata": {},
   "source": [
    "#### Span for all days"
   ]
  },
  {
   "cell_type": "code",
   "execution_count": 24,
   "id": "10a14b0d",
   "metadata": {},
   "outputs": [
    {
     "name": "stdout",
     "output_type": "stream",
     "text": [
      "span for day 0: 1\n",
      "span for day 1: 1\n",
      "span for day 2: 1\n",
      "span for day 3: 2\n",
      "span for day 4: 1\n",
      "span for day 5: 4\n",
      "span for day 6: 6\n"
     ]
    }
   ],
   "source": [
    "# finding span for all days:\n",
    "for i in range(len(prices)):\n",
    "    span = find_span(prices,i)\n",
    "    print(\"span for day {}:\".format(i), span)\n",
    "    "
   ]
  },
  {
   "cell_type": "code",
   "execution_count": 25,
   "id": "d4d310d1",
   "metadata": {},
   "outputs": [
    {
     "data": {
      "text/plain": [
       "[]"
      ]
     },
     "execution_count": 25,
     "metadata": {},
     "output_type": "execute_result"
    }
   ],
   "source": [
    "[i for i in range(1,0)] # start at 1 and end at 0, with step +1"
   ]
  },
  {
   "cell_type": "code",
   "execution_count": 26,
   "id": "3b0654ab",
   "metadata": {},
   "outputs": [
    {
     "data": {
      "text/plain": [
       "[]"
      ]
     },
     "execution_count": 26,
     "metadata": {},
     "output_type": "execute_result"
    }
   ],
   "source": [
    "[i for i in range(5,0)] # start at 1 and end at 0, with step +1"
   ]
  },
  {
   "cell_type": "code",
   "execution_count": 27,
   "id": "ca3b3801",
   "metadata": {},
   "outputs": [],
   "source": [
    "# its good that above list comprehension don't give error I thought it would"
   ]
  },
  {
   "cell_type": "markdown",
   "id": "ed4505c5",
   "metadata": {},
   "source": [
    "### Analysis of Complexity"
   ]
  },
  {
   "cell_type": "markdown",
   "id": "ccebe17a",
   "metadata": {},
   "source": [
    "#### Time Complexity"
   ]
  },
  {
   "cell_type": "code",
   "execution_count": null,
   "id": "9662f9ac",
   "metadata": {},
   "outputs": [],
   "source": [
    "# Analyzing complexity of Above approach:\n",
    "# At each index in prices we are running a for loop for index number of times(in worst case)\n",
    "# meaning at index 0: 0 times, at index 1: 1 times, ... at index 6: 6 times(in worst case)\n",
    "# To find the total span array, we run this for all indexes of prices array.\n",
    "# The time complexity is proportional to the number of times the code in for block is executed\n",
    "# for block has comparision operations, let us check how much comparisions is possible in worst case\n",
    "# The worst case when the number of comparision will be maximum is when the loop does not break at any index\n",
    "# i.e. when all the prices value are sorted in increasing order\n",
    "# so, at index 1 there will be 0 comparision\n",
    "# at index 2 there will be 1 comparision\n",
    "# at index 3 there will be 2 comparision\n",
    "# ...\n",
    "# at index 6 there will be 5 comparision\n",
    "\n",
    "# time complexity = 1 + 2 + 3 + 4 + 5\n",
    "# in general = 1 + 2 + ... + (n-1) = summ from 1 to (n-1) = (n-1)(1+n-1)/2 = n(n-1)/2\n",
    "# time complexity = O(n^2/2 + n/2)\n",
    "\n",
    "# Following Big-O Notation: We ignore constants and terms of less power. Therefore,\n",
    "# Time Complexity: O(n^2) or O(n*n)\n",
    "\n",
    "# This has quadratic time complexity"
   ]
  },
  {
   "cell_type": "markdown",
   "id": "8a9dda03",
   "metadata": {},
   "source": [
    "#### Space Complexity"
   ]
  },
  {
   "cell_type": "code",
   "execution_count": 30,
   "id": "35d7cb9c",
   "metadata": {},
   "outputs": [],
   "source": [
    "# Let's discussion space complexity:\n",
    "# We are just storing a single span variable. Ignoring the input and output spaces.\n",
    "# comparision happens in time, so takes no space.\n",
    "# Space complexity is O(1) - constant space complexity"
   ]
  },
  {
   "cell_type": "code",
   "execution_count": 31,
   "id": "b5a1d69c",
   "metadata": {},
   "outputs": [],
   "source": [
    "# Can we do better"
   ]
  },
  {
   "cell_type": "markdown",
   "id": "65a9cd84",
   "metadata": {},
   "source": [
    "### Improvement of the solution"
   ]
  },
  {
   "cell_type": "code",
   "execution_count": null,
   "id": "897715f2",
   "metadata": {},
   "outputs": [],
   "source": [
    "# we can see that the span depends on the index of the price bar\n",
    "# the span at index 0 will always be 1\n",
    "# the span at any other index i will have a maximum value of i"
   ]
  },
  {
   "cell_type": "code",
   "execution_count": null,
   "id": "3007530b",
   "metadata": {},
   "outputs": [],
   "source": [
    "# if we know the index of price bar, closest in left direction to the current price bar and taller than the current price bar.\n",
    "# we can do span(i) = i - h(i), where h(i) is the index of closest taller left bar.\n",
    "# Example: prices = [7,5,2,3,1,4,6]\n",
    "#              i  = [0,1,2,3,4,5,6]\n",
    "#            h(i) = [x,0,1,1,3,1,0]\n",
    "#       i - h(i) = [0-x,1,1,2,1,4,6]\n",
    "\n",
    "#          span   = [1,1,1,2,1,4,6]\n",
    "\n",
    "# except for index 0, [ i - h(i) ] is equivalent to span array\n",
    "# inorder to satisfy at index 0 also, we we do that after while. Let's focus on other index\n",
    "\n",
    "# So, this is perfectly good solution, but we need to find h(i)\n",
    "# h(i) = [x,0,1,1,3,1,0]\n",
    "\n",
    "# what we can say about above h(i), at first is increasing then decreasing,\n",
    "# kind of like we are stacking up and then clearing the stack\n",
    "# \n",
    "# at index 0, \n",
    "# just push 0 to stack since, it is the current tallest bar        # stack_state = [0]\n",
    "\n",
    "# at index 1, \n",
    "#           we know the closest taller left bar index is 0, which is our stack top. \n",
    "# So, check the price of current index with it. current price is less(5<7), \n",
    "# return h = 0 (closest taller left bar index)\n",
    "# return s = i - h = 1 - 0 = 1\n",
    "# then do nothing, only push current index in stack so as to compare \n",
    "# with next bar                                                    # stack_state = [0,1]\n",
    "\n",
    "\n",
    "# at index 2, \n",
    "#           we know the closest taller left bar index is 1, which is our stack top.\n",
    "# So, check the price of current index with it. current price is less(2<5),\n",
    "# return h = 1 (closest taller left bar index)\n",
    "# return s = i - h = 2 - 1 = 1\n",
    "# then do nothing, only push current index in stack so as to compare \n",
    "# with next bar                                                   # stack_state = [0,1,2]\n",
    "\n",
    "# at index 3, \n",
    "#           we know the closest taller left bar index is 2, which is our stack top.\n",
    "# So, check the price of current index with it. current price is more(3>2),\n",
    "# do something, we can't keep our stack top which tracks closest taller left bar wrong,\n",
    "# Stack correction: pop from the stack                            # stack_state = [0,1]\n",
    "# we know the closest taller left bar index is 1, which is our stack top.\n",
    "# So, check the price of current index with it. current price is less(3<5),\n",
    "# return h = 1 (closest taller left bar index)\n",
    "# return s = i - h = 3 - 1 = 2\n",
    "# then do nothing, only push current index in stack so as to compare \n",
    "# with next bar                                                   # stack_state = [0,1,3]\n",
    "\n",
    "# at index 4, \n",
    "#           we know the closest taller left bar is index 3, which is our stack top.\n",
    "# So, check the price of current index with it. current price is less(1<3),\n",
    "# return h = 3 (closest taller left bar index)\n",
    "# return s = i - h = 4 - 3 = 1\n",
    "# then do nothing, only push current index in stack so as to compare \n",
    "# with next bar                                                   # stack_state = [0,1,3,4]\n",
    "\n",
    "# at index 5, \n",
    "#           we know the closest taller left bar is index 4, which is our stack top.\n",
    "# So, check the price of current index with it. current price is more(4>1),\n",
    "# do something, we can't keep our stack top which tracks closest taller left bar wrong,\n",
    "# Stack correction: pop from the stack                           # stack_state = [0,1,3]\n",
    "# we know the closest taller left bar is index 3, which is our stack top.\n",
    "# So, check the price of current index with it. current price is more(4>3),\n",
    "# do something, we can't keep our stack top which tracks closest taller left bar wrong,\n",
    "# Stack correction: pop from the stack                           # stack_state = [0,1]\n",
    "# So, check the price of current index with it. current price is less(4<5),\n",
    "# do something, we can't keep our stack top which tracks closest taller left bar wrong,\n",
    "# Stack correction: pop from the stack                           # stack_state = [0,1]\n",
    "# return h = 1 (closest taller left bar index)\n",
    "# return s = i - h = 5 - 1 = 4\n",
    "# then do nothing, only push current index in stack so as to compare \n",
    "# with next bar                                                  # stack_state = [0,1,5]\n",
    "\n",
    "# at index 6, \n",
    "#           we know the closest taller left bar is index 5, which is our stack top.\n",
    "# So, check the price of current index with it. current price is more(6>4),\n",
    "# do something, we can't keep our stack top which tracks closest taller left bar wrong,\n",
    "# Stack correction: pop from the stack                           # stack_state = [0,1]\n",
    "# we know the closest taller left bar is index 1, which is our stack top.\n",
    "# So, check the price of current index with it. current price is more(6>5),\n",
    "# do something, we can't keep our stack top which tracks closest taller left bar wrong,\n",
    "# Stack correction: pop from the stack                           # stack_state = [0]\n",
    "# we know the closest taller left bar is index 0, which is our stack top.\n",
    "# So, check the price of current index with it. current price is less(6<7),\n",
    "# return h = 0 (closest taller left bar index)\n",
    "# return s = i - h = 6 - 0 = 6\n",
    "# then do nothing, only push current index in stack so as to compare \n",
    "# with next bar                                                  # stack_state = [0,6]\n",
    "\n",
    "# As we looped through all the index in prices list, finish the code."
   ]
  },
  {
   "cell_type": "code",
   "execution_count": null,
   "id": "d74de36e",
   "metadata": {},
   "outputs": [],
   "source": [
    "# understanding final stack_state\n",
    "# the stack now stores, 2 values - one is the index of the tallest bar \n",
    "# and the closest taller left bar which in this case is current index 6\n",
    "\n"
   ]
  },
  {
   "cell_type": "code",
   "execution_count": null,
   "id": "b9456a70",
   "metadata": {},
   "outputs": [],
   "source": [
    "# In the above logic, the stack stores the information about the 'closest taller left bar'\n",
    "# In the price bar at index 0, for span to be equal to 1, the value of x has to be -1 in span = (i-h) eqn\n",
    "# We will have to adjust this step in pseudo code."
   ]
  },
  {
   "cell_type": "code",
   "execution_count": null,
   "id": "2c90df24",
   "metadata": {},
   "outputs": [],
   "source": [
    "# write pseudo code for above logic\n",
    "\n",
    "# loop for all index of prices, starting from left\n",
    "# loop until stack is empty \n",
    "# pop from stack when prices[i]>=prices[stack.top()] else break loop\n",
    "# return h which is stack top (closest taller left bar)\n",
    "# s = i - h\n",
    "# push current_index in stack"
   ]
  },
  {
   "cell_type": "code",
   "execution_count": 36,
   "id": "61ccdfc1",
   "metadata": {},
   "outputs": [
    {
     "ename": "IndexError",
     "evalue": "list index out of range",
     "output_type": "error",
     "traceback": [
      "\u001b[1;31m---------------------------------------------------------------------------\u001b[0m",
      "\u001b[1;31mIndexError\u001b[0m                                Traceback (most recent call last)",
      "\u001b[1;32m~\\AppData\\Local\\Temp/ipykernel_17452/2800445096.py\u001b[0m in \u001b[0;36m<module>\u001b[1;34m\u001b[0m\n\u001b[0;32m      9\u001b[0m             \u001b[1;32mbreak\u001b[0m\u001b[1;33m\u001b[0m\u001b[1;33m\u001b[0m\u001b[0m\n\u001b[0;32m     10\u001b[0m \u001b[1;33m\u001b[0m\u001b[0m\n\u001b[1;32m---> 11\u001b[1;33m     \u001b[0mh\u001b[0m \u001b[1;33m=\u001b[0m \u001b[0mstack\u001b[0m\u001b[1;33m[\u001b[0m\u001b[1;33m-\u001b[0m\u001b[1;36m1\u001b[0m\u001b[1;33m]\u001b[0m\u001b[1;33m\u001b[0m\u001b[1;33m\u001b[0m\u001b[0m\n\u001b[0m\u001b[0;32m     12\u001b[0m     \u001b[0ms\u001b[0m \u001b[1;33m=\u001b[0m \u001b[0mi\u001b[0m \u001b[1;33m-\u001b[0m \u001b[0mh\u001b[0m\u001b[1;33m\u001b[0m\u001b[1;33m\u001b[0m\u001b[0m\n\u001b[0;32m     13\u001b[0m     \u001b[0mprint\u001b[0m\u001b[1;33m(\u001b[0m\u001b[1;34m\"Span for day {}: {}\"\u001b[0m\u001b[1;33m.\u001b[0m\u001b[0mformat\u001b[0m\u001b[1;33m(\u001b[0m\u001b[0mi\u001b[0m\u001b[1;33m,\u001b[0m \u001b[0ms\u001b[0m\u001b[1;33m)\u001b[0m\u001b[1;33m)\u001b[0m\u001b[1;33m\u001b[0m\u001b[1;33m\u001b[0m\u001b[0m\n",
      "\u001b[1;31mIndexError\u001b[0m: list index out of range"
     ]
    }
   ],
   "source": [
    "# implementation\n",
    "\n",
    "stack = []\n",
    "for i in range(len(prices)):\n",
    "    while len(stack)>0:\n",
    "        if prices[i]>=prices[stack[-1]]:\n",
    "            stack.pop()\n",
    "        else:\n",
    "            break\n",
    "            \n",
    "    h = stack[-1]\n",
    "    s = i - h\n",
    "    print(\"Span for day {}: {}\".format(i, s))\n",
    "    stack.append(i)\n",
    "    \n",
    "    "
   ]
  },
  {
   "cell_type": "code",
   "execution_count": null,
   "id": "2b23824e",
   "metadata": {},
   "outputs": [],
   "source": [
    "# giving error because we didn't handle the case when i == 0"
   ]
  },
  {
   "cell_type": "code",
   "execution_count": null,
   "id": "55eee3dd",
   "metadata": {},
   "outputs": [],
   "source": [
    "# In the above logic, the stack stores the information about the 'closest taller left bar'\n",
    "# In the price bar at index 0, for span to be equal to 1, the value of h has to be -1 in span = (i-h) eqn\n",
    "# We will have to adjust this step in pseudo code."
   ]
  },
  {
   "cell_type": "markdown",
   "id": "8d6df376",
   "metadata": {},
   "source": [
    "### Pseudo code"
   ]
  },
  {
   "cell_type": "code",
   "execution_count": null,
   "id": "a1685265",
   "metadata": {},
   "outputs": [],
   "source": [
    "# write pseudo code for above logic\n",
    "\n",
    "# loop for all index of prices, starting from left\n",
    "# loop until stack is empty \n",
    "# pop from stack when prices[i]>=prices[stack.top()] else break loop\n",
    "# return h = -1 if i==0 ELSE return h which is stack top (closest taller left bar)   --> TO AVOID ABOVE ERROR\n",
    "# s = i - h\n",
    "# push current_index in stack"
   ]
  },
  {
   "cell_type": "code",
   "execution_count": 37,
   "id": "3001d669",
   "metadata": {},
   "outputs": [
    {
     "name": "stdout",
     "output_type": "stream",
     "text": [
      "Span for day 0: 1\n",
      "Span for day 1: 1\n",
      "Span for day 2: 1\n",
      "Span for day 3: 2\n",
      "Span for day 4: 1\n",
      "Span for day 5: 4\n",
      "Span for day 6: 6\n"
     ]
    }
   ],
   "source": [
    "# implementation\n",
    "\n",
    "stack = []\n",
    "for i in range(len(prices)):\n",
    "    while len(stack)>0:\n",
    "        if prices[i]>=prices[stack[-1]]:\n",
    "            stack.pop()                                   # stack pop\n",
    "        else:\n",
    "            break\n",
    "    if i==0:\n",
    "        h = -1\n",
    "    else:\n",
    "        h = stack[-1]                                     # accessing the stack top - closest taller left bar\n",
    "    s = i - h\n",
    "    print(\"Span for day {}: {}\".format(i, s))\n",
    "    stack.append(i)                                       # stack push\n",
    "    \n",
    "    "
   ]
  },
  {
   "cell_type": "markdown",
   "id": "08dd745d",
   "metadata": {},
   "source": [
    "### Analysis of Complexity"
   ]
  },
  {
   "cell_type": "code",
   "execution_count": null,
   "id": "718fee5d",
   "metadata": {},
   "outputs": [],
   "source": [
    "# Analyzing the complexity of Above approach:\n",
    "# The above approach has certainly reduced the no. of comparisions, in the inner loop\n",
    "# We have mitigated the time complexity by increasing the space complexity\n",
    "# first let's talk about the space complexity.\n",
    "# Here we are using a stack, to maintain the info about \"closest taller left bar\"\n",
    "# In worst case, when all the prices are sorted in decreasing order, we will only push to the stack and never pop\n",
    "# So, we will have to store all elements in prices array\n",
    "# Space complexity in general scenario for worst case = O(n)\n",
    "# \n",
    "# Time complexity: The number of comparisions (1 comparision in 1 run of while loop) depends on the problem at hand.\n",
    "# For the same worst case according to the previous brute force method. With this approach, certainly the case is\n",
    "# worse but not worst.\n",
    "# In that case, when all the prices are sorted in increasing order, the comparision in while loop will always\n",
    "# break after poping the stack once. So, total time complexity is O(n).\n",
    "# In general scenario, once the element is poped from the stack, it is never pushed again to the stack(Pushing to the\n",
    "# stack is one time operation only). And, if the popping at index i happend t(i) times the time complexity will be \n",
    "# given by O(summ from 1 to (n-1) of (t(i) + 1)).\n",
    "# The max value of  [ summ from 1 to (n-1) of t(i) ] = n\n",
    "# So, total time complexity = O(2n) --> ignoring constant in Big-O notation\n",
    "# The time complexity becomes O(n)\n",
    "# Other way to think is, comparision are happening only on stack, and stack could not be larger than size of prices array\n",
    "# We have solved by using Stack as a data structure a problem of quadratic time complexity in linear time."
   ]
  },
  {
   "cell_type": "markdown",
   "id": "e1bf3ffd",
   "metadata": {},
   "source": [
    "### Running on test cases"
   ]
  },
  {
   "cell_type": "code",
   "execution_count": 52,
   "id": "3fb9a810",
   "metadata": {},
   "outputs": [],
   "source": [
    "def span(prices):\n",
    "    stack = []\n",
    "    for i in range(len(prices)):\n",
    "        while len(stack)>0:\n",
    "            if prices[i]>=prices[stack[-1]]:\n",
    "                stack.pop()                                   \n",
    "            else:\n",
    "                break\n",
    "        if i==0:\n",
    "            h = -1\n",
    "        else:\n",
    "            h = stack[-1]                                     \n",
    "        s = i - h\n",
    "#         print(\"Span for day {}: {}\".format(i, s))\n",
    "        stack.append(i)                                  \n",
    "    return span"
   ]
  },
  {
   "cell_type": "code",
   "execution_count": 53,
   "id": "8ce5573a",
   "metadata": {},
   "outputs": [
    {
     "name": "stdout",
     "output_type": "stream",
     "text": [
      "Test:  1\n"
     ]
    },
    {
     "ename": "IndexError",
     "evalue": "list index out of range",
     "output_type": "error",
     "traceback": [
      "\u001b[1;31m---------------------------------------------------------------------------\u001b[0m",
      "\u001b[1;31mIndexError\u001b[0m                                Traceback (most recent call last)",
      "\u001b[1;32m~\\AppData\\Local\\Temp/ipykernel_17452/3482704016.py\u001b[0m in \u001b[0;36m<module>\u001b[1;34m\u001b[0m\n\u001b[0;32m      2\u001b[0m \u001b[1;32mfor\u001b[0m \u001b[0mtest\u001b[0m \u001b[1;32min\u001b[0m \u001b[0mtests\u001b[0m\u001b[1;33m:\u001b[0m\u001b[1;33m\u001b[0m\u001b[1;33m\u001b[0m\u001b[0m\n\u001b[0;32m      3\u001b[0m     \u001b[0mprint\u001b[0m\u001b[1;33m(\u001b[0m\u001b[1;34m'Test: '\u001b[0m\u001b[1;33m,\u001b[0m\u001b[0mcnt\u001b[0m\u001b[1;33m)\u001b[0m\u001b[1;33m\u001b[0m\u001b[1;33m\u001b[0m\u001b[0m\n\u001b[1;32m----> 4\u001b[1;33m     \u001b[0mprint\u001b[0m\u001b[1;33m(\u001b[0m\u001b[1;34m\"Result: \"\u001b[0m\u001b[1;33m,\u001b[0m \u001b[0mspan\u001b[0m\u001b[1;33m(\u001b[0m\u001b[0mtest\u001b[0m\u001b[1;33m[\u001b[0m\u001b[1;34m'input'\u001b[0m\u001b[1;33m]\u001b[0m\u001b[1;33m)\u001b[0m\u001b[1;33m==\u001b[0m\u001b[0mtest\u001b[0m\u001b[1;33m[\u001b[0m\u001b[1;34m'output'\u001b[0m\u001b[1;33m]\u001b[0m\u001b[1;33m)\u001b[0m\u001b[1;33m\u001b[0m\u001b[1;33m\u001b[0m\u001b[0m\n\u001b[0m\u001b[0;32m      5\u001b[0m     \u001b[0mprint\u001b[0m\u001b[1;33m(\u001b[0m\u001b[1;34m'Input: '\u001b[0m\u001b[1;33m,\u001b[0m\u001b[0mtest\u001b[0m\u001b[1;33m[\u001b[0m\u001b[1;34m'input'\u001b[0m\u001b[1;33m]\u001b[0m\u001b[1;33m)\u001b[0m\u001b[1;33m\u001b[0m\u001b[1;33m\u001b[0m\u001b[0m\n\u001b[0;32m      6\u001b[0m     \u001b[0mprint\u001b[0m\u001b[1;33m(\u001b[0m\u001b[1;34m'Expected: '\u001b[0m\u001b[1;33m,\u001b[0m\u001b[0mtest\u001b[0m\u001b[1;33m[\u001b[0m\u001b[1;34m'output'\u001b[0m\u001b[1;33m]\u001b[0m\u001b[1;33m)\u001b[0m\u001b[1;33m\u001b[0m\u001b[1;33m\u001b[0m\u001b[0m\n",
      "\u001b[1;32m~\\AppData\\Local\\Temp/ipykernel_17452/2874836975.py\u001b[0m in \u001b[0;36mspan\u001b[1;34m(prices)\u001b[0m\n\u001b[0;32m     10\u001b[0m             \u001b[0mh\u001b[0m \u001b[1;33m=\u001b[0m \u001b[1;33m-\u001b[0m\u001b[1;36m1\u001b[0m\u001b[1;33m\u001b[0m\u001b[1;33m\u001b[0m\u001b[0m\n\u001b[0;32m     11\u001b[0m         \u001b[1;32melse\u001b[0m\u001b[1;33m:\u001b[0m\u001b[1;33m\u001b[0m\u001b[1;33m\u001b[0m\u001b[0m\n\u001b[1;32m---> 12\u001b[1;33m             \u001b[0mh\u001b[0m \u001b[1;33m=\u001b[0m \u001b[0mstack\u001b[0m\u001b[1;33m[\u001b[0m\u001b[1;33m-\u001b[0m\u001b[1;36m1\u001b[0m\u001b[1;33m]\u001b[0m\u001b[1;33m\u001b[0m\u001b[1;33m\u001b[0m\u001b[0m\n\u001b[0m\u001b[0;32m     13\u001b[0m         \u001b[0ms\u001b[0m \u001b[1;33m=\u001b[0m \u001b[0mi\u001b[0m \u001b[1;33m-\u001b[0m \u001b[0mh\u001b[0m\u001b[1;33m\u001b[0m\u001b[1;33m\u001b[0m\u001b[0m\n\u001b[0;32m     14\u001b[0m \u001b[1;31m#         print(\"Span for day {}: {}\".format(i, s))\u001b[0m\u001b[1;33m\u001b[0m\u001b[1;33m\u001b[0m\u001b[1;33m\u001b[0m\u001b[0m\n",
      "\u001b[1;31mIndexError\u001b[0m: list index out of range"
     ]
    }
   ],
   "source": [
    "cnt = 1\n",
    "for test in tests:\n",
    "    print('Test: ',cnt)\n",
    "    print(\"Result: \", span(test['input'])==test['output'])\n",
    "    print('Input: ',test['input'])\n",
    "    print('Expected: ',test['output'])\n",
    "    print('Actual: ',span(test['input']))\n",
    "    cnt +=1"
   ]
  },
  {
   "cell_type": "markdown",
   "id": "53313e56",
   "metadata": {},
   "source": [
    "#### Test Case 1 Failed!!"
   ]
  },
  {
   "cell_type": "code",
   "execution_count": null,
   "id": "d3f581a6",
   "metadata": {},
   "outputs": [],
   "source": [
    "# even though the general test case is passing, but the first case is failing\n",
    "# will have to correct before, proceeding"
   ]
  },
  {
   "cell_type": "markdown",
   "id": "82cfa330",
   "metadata": {},
   "source": [
    "### Debugging"
   ]
  },
  {
   "cell_type": "code",
   "execution_count": 100,
   "id": "c47c11a6",
   "metadata": {},
   "outputs": [],
   "source": [
    "def span1(prices):\n",
    "    stack = []\n",
    "    span = []\n",
    "    for i in range(len(prices)):                         # added some printing\n",
    "        print('len: ',len(stack))\n",
    "        while len(stack)>0:\n",
    "            print(prices[i]>=prices[stack[-1]])          # added some printing\n",
    "            if prices[i]>=prices[stack[-1]]:\n",
    "                stack.pop()                                   \n",
    "            else:\n",
    "                break\n",
    "                \n",
    "        if i==0:\n",
    "            h = -1\n",
    "        else:\n",
    "            h = stack[-1]                                     \n",
    "        s = i - h\n",
    "        print(\"Span for day {}: {}\".format(i, s)) \n",
    "        stack.append(i)     \n",
    "        print('stack:',stack)                          # added some printing\n",
    "        span.append(s)\n",
    "    return span"
   ]
  },
  {
   "cell_type": "code",
   "execution_count": 101,
   "id": "973a019c",
   "metadata": {},
   "outputs": [
    {
     "name": "stdout",
     "output_type": "stream",
     "text": [
      "len:  0\n",
      "Span for day 0: 1\n",
      "stack: [0]\n",
      "len:  1\n",
      "True\n"
     ]
    },
    {
     "ename": "IndexError",
     "evalue": "list index out of range",
     "output_type": "error",
     "traceback": [
      "\u001b[1;31m---------------------------------------------------------------------------\u001b[0m",
      "\u001b[1;31mIndexError\u001b[0m                                Traceback (most recent call last)",
      "\u001b[1;32m~\\AppData\\Local\\Temp/ipykernel_17452/2556608795.py\u001b[0m in \u001b[0;36m<module>\u001b[1;34m\u001b[0m\n\u001b[0;32m      1\u001b[0m \u001b[1;31m# running failed test case - tests[0]\u001b[0m\u001b[1;33m\u001b[0m\u001b[1;33m\u001b[0m\u001b[1;33m\u001b[0m\u001b[0m\n\u001b[1;32m----> 2\u001b[1;33m \u001b[0mspan1\u001b[0m\u001b[1;33m(\u001b[0m\u001b[0mtests\u001b[0m\u001b[1;33m[\u001b[0m\u001b[1;36m0\u001b[0m\u001b[1;33m]\u001b[0m\u001b[1;33m[\u001b[0m\u001b[1;34m'input'\u001b[0m\u001b[1;33m]\u001b[0m\u001b[1;33m)\u001b[0m\u001b[1;33m\u001b[0m\u001b[1;33m\u001b[0m\u001b[0m\n\u001b[0m",
      "\u001b[1;32m~\\AppData\\Local\\Temp/ipykernel_17452/3258235543.py\u001b[0m in \u001b[0;36mspan1\u001b[1;34m(prices)\u001b[0m\n\u001b[0;32m     14\u001b[0m             \u001b[0mh\u001b[0m \u001b[1;33m=\u001b[0m \u001b[1;33m-\u001b[0m\u001b[1;36m1\u001b[0m\u001b[1;33m\u001b[0m\u001b[1;33m\u001b[0m\u001b[0m\n\u001b[0;32m     15\u001b[0m         \u001b[1;32melse\u001b[0m\u001b[1;33m:\u001b[0m\u001b[1;33m\u001b[0m\u001b[1;33m\u001b[0m\u001b[0m\n\u001b[1;32m---> 16\u001b[1;33m             \u001b[0mh\u001b[0m \u001b[1;33m=\u001b[0m \u001b[0mstack\u001b[0m\u001b[1;33m[\u001b[0m\u001b[1;33m-\u001b[0m\u001b[1;36m1\u001b[0m\u001b[1;33m]\u001b[0m\u001b[1;33m\u001b[0m\u001b[1;33m\u001b[0m\u001b[0m\n\u001b[0m\u001b[0;32m     17\u001b[0m         \u001b[0ms\u001b[0m \u001b[1;33m=\u001b[0m \u001b[0mi\u001b[0m \u001b[1;33m-\u001b[0m \u001b[0mh\u001b[0m\u001b[1;33m\u001b[0m\u001b[1;33m\u001b[0m\u001b[0m\n\u001b[0;32m     18\u001b[0m         \u001b[0mprint\u001b[0m\u001b[1;33m(\u001b[0m\u001b[1;34m\"Span for day {}: {}\"\u001b[0m\u001b[1;33m.\u001b[0m\u001b[0mformat\u001b[0m\u001b[1;33m(\u001b[0m\u001b[0mi\u001b[0m\u001b[1;33m,\u001b[0m \u001b[0ms\u001b[0m\u001b[1;33m)\u001b[0m\u001b[1;33m)\u001b[0m\u001b[1;33m\u001b[0m\u001b[1;33m\u001b[0m\u001b[0m\n",
      "\u001b[1;31mIndexError\u001b[0m: list index out of range"
     ]
    }
   ],
   "source": [
    "# running failed test case - tests[0]\n",
    "span1(tests[0]['input'])"
   ]
  },
  {
   "cell_type": "code",
   "execution_count": null,
   "id": "7cefb031",
   "metadata": {},
   "outputs": [],
   "source": [
    "# what happened is - For second index in price array, the first if condition in for loop is evaluated to true \n",
    "# and the stack was popped making it an empty stack. And, in the next if statement, we are assignment stack top to h without\n",
    "# checking if stack is empty."
   ]
  },
  {
   "cell_type": "code",
   "execution_count": 102,
   "id": "ea94c0da",
   "metadata": {},
   "outputs": [],
   "source": [
    "# let's add a statement to check if stack is empty, before setting h\n",
    "# we replace i==0 with len(stack)>0 (replaced condition for first element with stack not empty)\n",
    "# default return value of h when stack is empty should be equal to -1"
   ]
  },
  {
   "cell_type": "code",
   "execution_count": 103,
   "id": "f1b855ef",
   "metadata": {},
   "outputs": [],
   "source": [
    "def span1(prices):\n",
    "    stack = []\n",
    "    span = []\n",
    "    for i in range(len(prices)):\n",
    "        print('len: ',len(stack))\n",
    "        while len(stack)>0:\n",
    "            if prices[i]>=prices[stack[-1]]:\n",
    "                stack.pop()                                   \n",
    "            else:\n",
    "                break\n",
    "                \n",
    "        if len(stack)>0:\n",
    "            h = stack[-1]\n",
    "        else:\n",
    "            h = -1\n",
    "                \n",
    "        s = i - h\n",
    "        print(\"Span for day {}: {}\".format(i, s))\n",
    "        stack.append(i)     \n",
    "        print('stack:',stack)\n",
    "        span.append(s)\n",
    "    return span"
   ]
  },
  {
   "cell_type": "code",
   "execution_count": 95,
   "id": "784b9efd",
   "metadata": {},
   "outputs": [
    {
     "name": "stdout",
     "output_type": "stream",
     "text": [
      "len:  0\n",
      "Span for day 0: 1\n",
      "stack: [0]\n",
      "len:  1\n",
      "Span for day 1: 2\n",
      "stack: [1]\n",
      "len:  1\n",
      "Span for day 2: 3\n",
      "stack: [2]\n",
      "len:  1\n",
      "Span for day 3: 4\n",
      "stack: [3]\n",
      "len:  1\n",
      "Span for day 4: 5\n",
      "stack: [4]\n",
      "len:  1\n",
      "Span for day 5: 6\n",
      "stack: [5]\n",
      "len:  1\n",
      "Span for day 6: 7\n",
      "stack: [6]\n",
      "[1, 2, 3, 4, 5, 6, 7]\n"
     ]
    }
   ],
   "source": [
    "result = span1(tests[0]['input'])\n",
    "print(result)"
   ]
  },
  {
   "cell_type": "markdown",
   "id": "055a7415",
   "metadata": {},
   "source": [
    "### Running on all test cases again"
   ]
  },
  {
   "cell_type": "code",
   "execution_count": 146,
   "id": "36ff5ffe",
   "metadata": {},
   "outputs": [],
   "source": [
    "def span1(prices):\n",
    "    stack = []\n",
    "    span = []\n",
    "    for i in range(len(prices)):\n",
    "#         print('len: ',len(stack))\n",
    "        while len(stack)>0:\n",
    "            if prices[i]>=prices[stack[-1]]:\n",
    "                stack.pop()                                   \n",
    "            else:\n",
    "                break\n",
    "                \n",
    "        if len(stack)>0:\n",
    "            h = stack[-1]\n",
    "        else:\n",
    "            h = -1\n",
    "                \n",
    "        s = i - h\n",
    "#         print(\"Span for day {}: {}\".format(i, s))\n",
    "        stack.append(i)     \n",
    "#         print('stack:',stack)\n",
    "        span.append(s)\n",
    "    return span"
   ]
  },
  {
   "cell_type": "code",
   "execution_count": 148,
   "id": "b03e39d8",
   "metadata": {
    "scrolled": false
   },
   "outputs": [
    {
     "name": "stdout",
     "output_type": "stream",
     "text": [
      "Test:  1\n",
      "Result:  \u001b[1mPASSED\u001b[0m\n",
      "Input:  [1, 2, 3, 4, 5, 6, 7]\n",
      "Expected:  [1, 2, 3, 4, 5, 6, 7]\n",
      "Actual:  [1, 2, 3, 4, 5, 6, 7]\n",
      "Test:  2\n",
      "Result:  \u001b[1mPASSED\u001b[0m\n",
      "Input:  [7, 6, 5, 4, 3, 2, 1]\n",
      "Expected:  [1, 1, 1, 1, 1, 1, 1]\n",
      "Actual:  [1, 1, 1, 1, 1, 1, 1]\n",
      "Test:  3\n",
      "Result:  \u001b[1mPASSED\u001b[0m\n",
      "Input:  [1, 3, 4, 7, 6, 5, 2]\n",
      "Expected:  [1, 2, 3, 4, 1, 1, 1]\n",
      "Actual:  [1, 2, 3, 4, 1, 1, 1]\n",
      "Test:  4\n",
      "Result:  \u001b[1mFAILED!!!\u001b[0m\n",
      "Input:  [1, 3, 4, 4, 6, 5, 2]\n",
      "Expected:  [1, 2, 3, 1, 5, 1, 1]\n",
      "Actual:  [1, 2, 3, 4, 5, 1, 1]\n",
      "Test:  5\n",
      "Result:  \u001b[1mPASSED\u001b[0m\n",
      "Input:  [1, 3, 4, 7, 6, 4, 2]\n",
      "Expected:  [1, 2, 3, 4, 1, 1, 1]\n",
      "Actual:  [1, 2, 3, 4, 1, 1, 1]\n",
      "Test:  6\n",
      "Result:  \u001b[1mPASSED\u001b[0m\n",
      "Input:  [7, 5, 2, 3, 1, 4, 6]\n",
      "Expected:  [1, 1, 1, 2, 1, 4, 6]\n",
      "Actual:  [1, 1, 1, 2, 1, 4, 6]\n"
     ]
    }
   ],
   "source": [
    "cnt = 1\n",
    "for test in tests:\n",
    "    print('Test: ',cnt)\n",
    "    print(\"Result: \", \"\\x1b[1mPASSED\\x1b[0m\" if span1(test['input'])==test['output'] else \"\\x1b[1mFAILED!!!\\x1b[0m\")\n",
    "    print('Input: ',test['input'])\n",
    "    print('Expected: ',test['output'])\n",
    "    print('Actual: ',span1(test['input']))\n",
    "    cnt +=1"
   ]
  },
  {
   "cell_type": "markdown",
   "id": "9ba4094f",
   "metadata": {},
   "source": [
    "#### Test Case 4 Failed!!"
   ]
  },
  {
   "cell_type": "markdown",
   "id": "e3a74019",
   "metadata": {},
   "source": [
    "### debugging"
   ]
  },
  {
   "cell_type": "code",
   "execution_count": 149,
   "id": "ee775e39",
   "metadata": {},
   "outputs": [],
   "source": [
    "def span1(prices):\n",
    "    stack = []\n",
    "    span = []\n",
    "    for i in range(len(prices)):\n",
    "#         print('len: ',len(stack))\n",
    "        while len(stack)>0:\n",
    "            if prices[i]>prices[stack[-1]]:                               # changed\n",
    "                stack.pop()                                   \n",
    "            else:\n",
    "                break\n",
    "                \n",
    "        if len(stack)>0:\n",
    "            h = stack[-1]\n",
    "        else:\n",
    "            h = -1\n",
    "                \n",
    "        s = i - h\n",
    "#         print(\"Span for day {}: {}\".format(i, s))\n",
    "        stack.append(i)     \n",
    "#         print('stack:',stack)\n",
    "        span.append(s)\n",
    "    return span"
   ]
  },
  {
   "cell_type": "code",
   "execution_count": 150,
   "id": "5e13f18c",
   "metadata": {},
   "outputs": [],
   "source": [
    "# CHANGE: only when the current bar price is greater than stack top price, pop from the stack, else don't pop"
   ]
  },
  {
   "cell_type": "code",
   "execution_count": 145,
   "id": "b0c7788b",
   "metadata": {
    "scrolled": false
   },
   "outputs": [
    {
     "name": "stdout",
     "output_type": "stream",
     "text": [
      "Test:  1\n",
      "Result:  \u001b[1mPASSED\u001b[0m\n",
      "Input:  [1, 2, 3, 4, 5, 6, 7]\n",
      "Expected:  [1, 2, 3, 4, 5, 6, 7]\n",
      "Actual:  [1, 2, 3, 4, 5, 6, 7]\n",
      "Test:  2\n",
      "Result:  \u001b[1mPASSED\u001b[0m\n",
      "Input:  [7, 6, 5, 4, 3, 2, 1]\n",
      "Expected:  [1, 1, 1, 1, 1, 1, 1]\n",
      "Actual:  [1, 1, 1, 1, 1, 1, 1]\n",
      "Test:  3\n",
      "Result:  \u001b[1mPASSED\u001b[0m\n",
      "Input:  [1, 3, 4, 7, 6, 5, 2]\n",
      "Expected:  [1, 2, 3, 4, 1, 1, 1]\n",
      "Actual:  [1, 2, 3, 4, 1, 1, 1]\n",
      "Test:  4\n",
      "Result:  \u001b[1mPASSED\u001b[0m\n",
      "Input:  [1, 3, 4, 4, 6, 5, 2]\n",
      "Expected:  [1, 2, 3, 1, 5, 1, 1]\n",
      "Actual:  [1, 2, 3, 1, 5, 1, 1]\n",
      "Test:  5\n",
      "Result:  \u001b[1mPASSED\u001b[0m\n",
      "Input:  [1, 3, 4, 7, 6, 4, 2]\n",
      "Expected:  [1, 2, 3, 4, 1, 1, 1]\n",
      "Actual:  [1, 2, 3, 4, 1, 1, 1]\n",
      "Test:  6\n",
      "Result:  \u001b[1mPASSED\u001b[0m\n",
      "Input:  [7, 5, 2, 3, 1, 4, 6]\n",
      "Expected:  [1, 1, 1, 2, 1, 4, 6]\n",
      "Actual:  [1, 1, 1, 2, 1, 4, 6]\n"
     ]
    }
   ],
   "source": [
    "cnt = 1\n",
    "for test in tests:\n",
    "    print('Test: ',cnt)\n",
    "    print(\"Result: \", \"\\x1b[1mPASSED\\x1b[0m\" if span1(test['input'])==test['output'] else \"\\x1b[1mFAILED!!!\\x1b[0m\")\n",
    "    print('Input: ',test['input'])\n",
    "    print('Expected: ',test['output'])\n",
    "    print('Actual: ',span1(test['input']))\n",
    "    cnt +=1"
   ]
  },
  {
   "cell_type": "code",
   "execution_count": null,
   "id": "1cb18118",
   "metadata": {},
   "outputs": [],
   "source": [
    "# As is evident from above exercise, test cases are helping in correcting even the smallest scope of the program \n",
    "# that it is intended to work for"
   ]
  }
 ],
 "metadata": {
  "kernelspec": {
   "display_name": "Python 3 (ipykernel)",
   "language": "python",
   "name": "python3"
  },
  "language_info": {
   "codemirror_mode": {
    "name": "ipython",
    "version": 3
   },
   "file_extension": ".py",
   "mimetype": "text/x-python",
   "name": "python",
   "nbconvert_exporter": "python",
   "pygments_lexer": "ipython3",
   "version": "3.9.5"
  }
 },
 "nbformat": 4,
 "nbformat_minor": 5
}
